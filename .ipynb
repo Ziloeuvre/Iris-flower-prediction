{
 "cells": [
  {
   "cell_type": "code",
   "execution_count": 1,
   "metadata": {},
   "outputs": [],
   "source": [
    "import numpy as np\n",
    "\n"
   ]
  },
  {
   "cell_type": "code",
   "execution_count": 2,
   "metadata": {},
   "outputs": [],
   "source": [
    "x = [-1,0,1,2,3,4]"
   ]
  },
  {
   "cell_type": "code",
   "execution_count": 3,
   "metadata": {},
   "outputs": [
    {
     "ename": "SyntaxError",
     "evalue": "invalid syntax (2556462083.py, line 1)",
     "output_type": "error",
     "traceback": [
      "\u001b[1;36m  Cell \u001b[1;32mIn[3], line 1\u001b[1;36m\u001b[0m\n\u001b[1;33m    import np.array(x)\u001b[0m\n\u001b[1;37m                   ^\u001b[0m\n\u001b[1;31mSyntaxError\u001b[0m\u001b[1;31m:\u001b[0m invalid syntax\n"
     ]
    }
   ],
   "source": [
    "import np.array(x)"
   ]
  },
  {
   "cell_type": "code",
   "execution_count": null,
   "metadata": {},
   "outputs": [
    {
     "name": "stdout",
     "output_type": "stream",
     "text": [
      "18.869523809523812\n",
      "[-3.  -1.   1.   2.8  5.1  6.9]\n"
     ]
    }
   ],
   "source": [
    "# y = b0 + b1x\n",
    "# b0 = y_mean - b1x\n",
    "\n",
    "import numpy as np\n",
    "\n",
    "\n",
    "class SimpleLinearRegression:\n",
    "    def _init_(self):\n",
    "        self.intercept_ = None\n",
    "        self.coef_ = None\n",
    "\n",
    "    def fit(self, x, y):\n",
    "        #    mean = 0\n",
    "        #    for value in x:\n",
    "        #        mean += value\n",
    "        x_mean = np.mean(x)\n",
    "        y_mean = np.mean(y)\n",
    "\n",
    "        n = np.sum((x - x_mean) * (y - y_mean))\n",
    "        d = np.sum((x - x_mean) ** 2)\n",
    "\n",
    "        self.coef_ = n / d\n",
    "        self.intercept_ = y_mean - self.coef_ * x_mean\n",
    "\n",
    "        y_pred = self.intercept_ + (self.coef_ * x)\n",
    "\n",
    "    def predict(self, x):\n",
    "        y_pred = self.intercept_ + (self.coef_ * x)\n",
    "        return y_pred\n",
    "\n",
    "\n",
    "xs = np.array([-1, 0, 1, 2, 3, 4])\n",
    "ys = np.array([-3, -1, 1, 2.8, 5.1, 6.9])\n",
    "\n",
    "linear_model = SimpleLinearRegression()\n",
    "linear_model.fit(xs, ys)\n",
    "\n",
    "# all_prediction = linear_model.predict(xs)\n",
    "\n",
    "single_prediction = linear_model.predict(10)\n",
    "\n",
    "\n",
    "print(single_prediction)\n",
    "# 85\n",
    "print(ys)\n",
    "# print(all_prediction)"
   ]
  },
  {
   "cell_type": "code",
   "execution_count": null,
   "metadata": {},
   "outputs": [],
   "source": [
    "vector = "
   ]
  }
 ],
 "metadata": {
  "kernelspec": {
   "display_name": "slr-KIGL2586-py3.11",
   "language": "python",
   "name": "python3"
  },
  "language_info": {
   "codemirror_mode": {
    "name": "ipython",
    "version": 3
   },
   "file_extension": ".py",
   "mimetype": "text/x-python",
   "name": "python",
   "nbconvert_exporter": "python",
   "pygments_lexer": "ipython3",
   "version": "3.11.8"
  }
 },
 "nbformat": 4,
 "nbformat_minor": 2
}
